{
 "cells": [
  {
   "attachments": {},
   "cell_type": "markdown",
   "metadata": {},
   "source": [
    "August 20, 2020 at 3:10 AM (EST)\n",
    "\n",
    "Good morning, Kadi; l always celebrate hearing from you .As you know, ours is not a literate. I learned from your late grandfather, with whom you shared the clan name, \" Dhatemwa kulala aye dhayawukana emibala (I.e.they diverge when it comes to the sound they make and the philosophy of life they articulate.This was especially noteworthy in the case of twins who frequently in their behaviour preferences!\n",
    "\n",
    "Literally, the name conveys the need to manage your expectations of people accordingly.\n",
    "\n",
    "\n",
    "\"Although drums my have been made from stem of a tree they don't sound the same.\"\n",
    "\n",
    "whatsApp: Munyonyo -> Baltimore\n",
    "\n",
    "#\n",
    "\n",
    "![](generalpj2jpg.jpeg)\n",
    "\n",
    "Pictured: Maj. General Patrick E. Muinda. Not to be confused with the General Patrick J. Muzaale on the book cover!"
   ]
  }
 ],
 "metadata": {
  "kernelspec": {
   "display_name": "Python 3",
   "language": "python",
   "name": "python3"
  },
  "language_info": {
   "codemirror_mode": {
    "name": "ipython",
    "version": 3
   },
   "file_extension": ".py",
   "mimetype": "text/x-python",
   "name": "python",
   "nbconvert_exporter": "python",
   "pygments_lexer": "ipython3",
   "version": "3.11.2"
  },
  "widgets": {
   "application/vnd.jupyter.widget-state+json": {
    "state": {},
    "version_major": 2,
    "version_minor": 0
   }
  }
 },
 "nbformat": 4,
 "nbformat_minor": 4
}